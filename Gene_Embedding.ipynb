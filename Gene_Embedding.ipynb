{
 "cells": [
  {
   "cell_type": "code",
   "execution_count": 64,
   "metadata": {},
   "outputs": [],
   "source": [
    "import numpy as np \n",
    "import pandas as pd \n",
    "import matplotlib.pyplot as plt\n",
    "import os\n",
    "import urllib\n",
    "import gzip\n",
    "import urllib.request\n",
    "from scipy import stats\n",
    "from scipy.stats import randint\n",
    "from sklearn.model_selection import train_test_split\n",
    "from sklearn import preprocessing\n",
    "from sklearn import metrics\n",
    "from sklearn.cluster import KMeans\n",
    "from sklearn import datasets\n",
    "from scipy.cluster.hierarchy import linkage, dendrogram\n",
    "from sklearn.manifold import TSNE\n",
    "from sklearn.cluster import DBSCAN\n",
    "import re\n",
    "import shutil\n",
    "from csv import reader\n",
    "from itertools import permutations , combinations ,product\n",
    "from sklearn.cluster import KMeans\n",
    "from sklearn.metrics.pairwise import euclidean_distances\n",
    "from sklearn.metrics import silhouette_score"
   ]
  },
  {
   "cell_type": "code",
   "execution_count": 65,
   "metadata": {},
   "outputs": [],
   "source": [
    "# Getting data from URL \n",
    "\n",
    "df1 = pd.DataFrame()\n",
    "df1 = pd.read_csv(\"https://www.eecs.uottawa.ca/~turcotte/teaching/csi-5180/assignments/1/human_skin_microbiome.csv\")\n",
    "df1.columns = [\"Organism\",\"URL\"]"
   ]
  },
  {
   "cell_type": "code",
   "execution_count": 66,
   "metadata": {},
   "outputs": [],
   "source": [
    "path = \"Data\"\n",
    "if not os.path.exists(path):\n",
    "    os.makedirs(path)"
   ]
  },
  {
   "cell_type": "code",
   "execution_count": 67,
   "metadata": {},
   "outputs": [],
   "source": [
    "# unzipping the data\n",
    "\n",
    "for i in range(len(df1)):\n",
    "    filename = os.path.join(path, df1.Organism[i] +'.fna.gz')\n",
    "    urllib.request.urlretrieve(df1.URL[i], filename)\n",
    "    with gzip.open(filename, 'rb') as f_in:\n",
    "        filename1 = os.path.join(path, df1.Organism[i] +'.txt')\n",
    "        with open(filename1, 'wb') as f_out:  \n",
    "            shutil.copyfileobj(f_in, f_out)"
   ]
  },
  {
   "cell_type": "code",
   "execution_count": 68,
   "metadata": {},
   "outputs": [],
   "source": [
    "# Writing the data into a file\n",
    "\n",
    "for filename in os.listdir(path):\n",
    "    if filename.endswith(\".txt\"):\n",
    "        with open(path+\"/\"+filename ,\"r\") as f_in:\n",
    "             line = f_in.readlines()\n",
    "        with open(\"sequence.txt\" ,\"w\") as f_out:\n",
    "             for sequence in line:\n",
    "                sequence = sequence.upper()\n",
    "                if not sequence.startswith('>'):\n",
    "                    f_out.write(sequence)"
   ]
  },
  {
   "cell_type": "code",
   "execution_count": 69,
   "metadata": {},
   "outputs": [],
   "source": [
    "#Reading file\n",
    "\n",
    "with open (\"sequence.txt\" , \"r\") as f:\n",
    "        line = f.readlines()\n",
    "        "
   ]
  },
  {
   "cell_type": "code",
   "execution_count": 70,
   "metadata": {},
   "outputs": [],
   "source": [
    "# converting lines to string \n",
    "\n",
    "string = ''.join(line)"
   ]
  },
  {
   "cell_type": "code",
   "execution_count": 71,
   "metadata": {},
   "outputs": [],
   "source": [
    "s_string = string.replace(\"\\n\",\"\")"
   ]
  },
  {
   "cell_type": "code",
   "execution_count": 72,
   "metadata": {},
   "outputs": [],
   "source": [
    "# computing frequency vector \n",
    "\n",
    "char = [\"A\",\"C\",\"G\",\"T\"]\n",
    "\n",
    "character  = []\n",
    "\n",
    "for all_combinations in product(char,repeat = 4):\n",
    "    character.append(\"\".join(all_combinations))\n",
    "    \n",
    "frequency_vector = []\n",
    "\n",
    "i = 1\n",
    "for i in range(len(character)):\n",
    "    occurrence = str(s_string.count(character[i]))\n",
    "    percent_occurrence = float(occurrence)/len(s_string)*100\n",
    "    frequency_vector.append((round(percent_occurrence,2)))"
   ]
  },
  {
   "cell_type": "code",
   "execution_count": 73,
   "metadata": {},
   "outputs": [
    {
     "name": "stdout",
     "output_type": "stream",
     "text": [
      "256\n"
     ]
    }
   ],
   "source": [
    "# checking length of frequency vector\n",
    "\n",
    "print(len(frequency_vector))"
   ]
  },
  {
   "cell_type": "code",
   "execution_count": 74,
   "metadata": {},
   "outputs": [],
   "source": [
    "df2 = pd.DataFrame(frequency_vector)"
   ]
  },
  {
   "cell_type": "code",
   "execution_count": 75,
   "metadata": {},
   "outputs": [],
   "source": [
    "# calculating KMeans for frquency vector\n",
    "\n",
    "k_means = KMeans(n_clusters=3, init='random' ,n_init=10, max_iter=300, \n",
    "    tol=1e-04, random_state=0)\n",
    "model = k_means.fit_predict(df2)"
   ]
  },
  {
   "cell_type": "code",
   "execution_count": 76,
   "metadata": {},
   "outputs": [
    {
     "data": {
      "image/png": "[encoded data removed]",
      "text/plain": [
       "<Figure size 432x288 with 1 Axes>"
      ]
     },
     "metadata": {
      "needs_background": "light"
     },
     "output_type": "display_data"
    }
   ],
   "source": [
    "# Finding out possible number of inertia for K-means\n",
    "\n",
    "distortions = []\n",
    "\n",
    "for i in range(1, 14):\n",
    "    k_means = KMeans(\n",
    "        n_clusters=i, init='random',\n",
    "        n_init=10, max_iter=300,\n",
    "        tol=1e-04, random_state=0)\n",
    "    \n",
    "    k_means.fit(df2)\n",
    "    distortions.append(k_means.inertia_)\n",
    "\n",
    "# plot\n",
    "plt.plot(range(1, 14), distortions, marker='o')\n",
    "plt.xlabel('Number of clusters')\n",
    "plt.ylabel('Distortion')\n",
    "plt.show()"
   ]
  },
  {
   "cell_type": "code",
   "execution_count": 77,
   "metadata": {},
   "outputs": [
    {
     "name": "stdout",
     "output_type": "stream",
     "text": [
      "cluster number: 2\n",
      "score  0.6758456202745239\n",
      "cluster number: 3\n",
      "score  0.6075864691750459\n",
      "cluster number: 4\n",
      "score  0.5795027196646473\n",
      "cluster number: 5\n",
      "score  0.5725895956512534\n",
      "cluster number: 6\n",
      "score  0.5754030501884712\n",
      "cluster number: 7\n",
      "score  0.5684907176483099\n",
      "cluster number: 8\n",
      "score  0.6046360041353125\n",
      "cluster number: 9\n",
      "score  0.57569452599831\n",
      "cluster number: 10\n",
      "score  0.5677726283902034\n",
      "cluster number: 11\n",
      "score  0.569116396857835\n",
      "cluster number: 12\n",
      "score  0.529843676558163\n",
      "cluster number: 13\n",
      "score  0.5251334042971381\n",
      "###################################\n",
      "maximum score 0.6758456202745239\n",
      "###################################\n"
     ]
    },
    {
     "data": {
      "image/png": "[encoded data removed]",
      "text/plain": [
       "<Figure size 432x288 with 1 Axes>"
      ]
     },
     "metadata": {
      "needs_background": "light"
     },
     "output_type": "display_data"
    }
   ],
   "source": [
    "# Finding out silhouttie score\n",
    "\n",
    "scores = []\n",
    "cluster = []\n",
    "\n",
    "for i in range(2, 14):\n",
    "    k_means = KMeans(\n",
    "        n_clusters=i, init='random',\n",
    "        n_init=10, max_iter=300,\n",
    "        tol=1e-04, random_state=0)\n",
    "    \n",
    "    k_means.fit(df2)\n",
    "    \n",
    "    preds = k_means.fit_predict(df2)\n",
    "    \n",
    "    score = silhouette_score (df2, preds, metric='euclidean')\n",
    "    print(\"cluster number:\" ,i)\n",
    "    print(\"score \" , score)\n",
    "    \n",
    "    cluster.append(i)\n",
    "    scores.append(score)\n",
    "    \n",
    "# finding out the maximum \n",
    "\n",
    "print(\"###################################\")\n",
    "maximum_score = max(scores)\n",
    "print(\"maximum score\",maximum_score)\n",
    "print(\"###################################\")\n",
    "\n",
    "# PLOT\n",
    "\n",
    "plt.plot(range(2, 14), scores, marker='o')\n",
    "plt.xlabel('Number of clusters')\n",
    "plt.ylabel('score')\n",
    "plt.show()    "
   ]
  },
  {
   "cell_type": "code",
   "execution_count": 79,
   "metadata": {},
   "outputs": [
    {
     "data": {
      "image/png": "[encoded data removed]",
      "text/plain": [
       "<Figure size 432x288 with 1 Axes>"
      ]
     },
     "metadata": {
      "needs_background": "light"
     },
     "output_type": "display_data"
    }
   ],
   "source": [
    "# Results of hierarchial cluster Analysis\n",
    "\n",
    "z = linkage(df2,\"single\")\n",
    "\n",
    "dendrogram(z,truncate_mode= \"lastp\" ,p = 12 )\n",
    "plt.title(\"Hierachial Clustering Dendrogram\")\n",
    "plt.xlabel(\"Cluster Size\")\n",
    "plt.ylabel(\"Distance\")\n",
    "\n",
    "#divide the cluster\n",
    "plt.axhline(y=15)\n",
    "plt.axhline(5)\n",
    "plt.axhline(10)\n",
    "plt.show()"
   ]
  }
 ],
 "metadata": {
  "kernelspec": {
   "display_name": "Python 3",
   "language": "python",
   "name": "python3"
  },
  "language_info": {
   "codemirror_mode": {
    "name": "ipython",
    "version": 3
   },
   "file_extension": ".py",
   "mimetype": "text/x-python",
   "name": "python",
   "nbconvert_exporter": "python",
   "pygments_lexer": "ipython3",
   "version": "3.6.8"
  }
 },
 "nbformat": 4,
 "nbformat_minor": 2
}
